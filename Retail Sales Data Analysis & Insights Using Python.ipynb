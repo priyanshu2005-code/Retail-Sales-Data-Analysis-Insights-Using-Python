{
 "cells": [
  {
   "cell_type": "markdown",
   "id": "27c77f65-2dbd-4bb9-a460-4b3ab7f8f706",
   "metadata": {},
   "source": [
    "# Retail Sales Data Analysis & Insights Using Python\n"
   ]
  },
  {
   "cell_type": "code",
   "execution_count": 8,
   "id": "74ed7d4f-a6cb-4c24-911b-6f712406489f",
   "metadata": {},
   "outputs": [],
   "source": [
    "import numpy as np\n",
    "import pandas as pd\n",
    "import matplotlib.pyplot as plt\n",
    "import os\n",
    "import seaborn as sns\n"
   ]
  },
  {
   "cell_type": "code",
   "execution_count": 9,
   "id": "f74d0579-0b2d-4598-9ec1-b9e96c5cdfc9",
   "metadata": {},
   "outputs": [
    {
     "data": {
      "text/html": [
       "<div>\n",
       "<style scoped>\n",
       "    .dataframe tbody tr th:only-of-type {\n",
       "        vertical-align: middle;\n",
       "    }\n",
       "\n",
       "    .dataframe tbody tr th {\n",
       "        vertical-align: top;\n",
       "    }\n",
       "\n",
       "    .dataframe thead th {\n",
       "        text-align: right;\n",
       "    }\n",
       "</style>\n",
       "<table border=\"1\" class=\"dataframe\">\n",
       "  <thead>\n",
       "    <tr style=\"text-align: right;\">\n",
       "      <th></th>\n",
       "      <th>Order ID</th>\n",
       "      <th>Product</th>\n",
       "      <th>Quantity Ordered</th>\n",
       "      <th>Price Each</th>\n",
       "      <th>Order Date</th>\n",
       "      <th>Purchase Address</th>\n",
       "    </tr>\n",
       "  </thead>\n",
       "  <tbody>\n",
       "    <tr>\n",
       "      <th>0</th>\n",
       "      <td>295665</td>\n",
       "      <td>Macbook Pro Laptop</td>\n",
       "      <td>1</td>\n",
       "      <td>1700</td>\n",
       "      <td>12/30/19 00:01</td>\n",
       "      <td>136 Church St, New York City, NY 10001</td>\n",
       "    </tr>\n",
       "    <tr>\n",
       "      <th>1</th>\n",
       "      <td>295666</td>\n",
       "      <td>LG Washing Machine</td>\n",
       "      <td>1</td>\n",
       "      <td>600.0</td>\n",
       "      <td>12/29/19 07:03</td>\n",
       "      <td>562 2nd St, New York City, NY 10001</td>\n",
       "    </tr>\n",
       "    <tr>\n",
       "      <th>2</th>\n",
       "      <td>295667</td>\n",
       "      <td>USB-C Charging Cable</td>\n",
       "      <td>1</td>\n",
       "      <td>11.95</td>\n",
       "      <td>12/12/19 18:21</td>\n",
       "      <td>277 Main St, New York City, NY 10001</td>\n",
       "    </tr>\n",
       "    <tr>\n",
       "      <th>3</th>\n",
       "      <td>295668</td>\n",
       "      <td>27in FHD Monitor</td>\n",
       "      <td>1</td>\n",
       "      <td>149.99</td>\n",
       "      <td>12/22/19 15:13</td>\n",
       "      <td>410 6th St, San Francisco, CA 94016</td>\n",
       "    </tr>\n",
       "    <tr>\n",
       "      <th>4</th>\n",
       "      <td>295669</td>\n",
       "      <td>USB-C Charging Cable</td>\n",
       "      <td>1</td>\n",
       "      <td>11.95</td>\n",
       "      <td>12/18/19 12:38</td>\n",
       "      <td>43 Hill St, Atlanta, GA 30301</td>\n",
       "    </tr>\n",
       "    <tr>\n",
       "      <th>...</th>\n",
       "      <td>...</td>\n",
       "      <td>...</td>\n",
       "      <td>...</td>\n",
       "      <td>...</td>\n",
       "      <td>...</td>\n",
       "      <td>...</td>\n",
       "    </tr>\n",
       "    <tr>\n",
       "      <th>13617</th>\n",
       "      <td>222905</td>\n",
       "      <td>AAA Batteries (4-pack)</td>\n",
       "      <td>1</td>\n",
       "      <td>2.99</td>\n",
       "      <td>06/07/19 19:02</td>\n",
       "      <td>795 Pine St, Boston, MA 02215</td>\n",
       "    </tr>\n",
       "    <tr>\n",
       "      <th>13618</th>\n",
       "      <td>222906</td>\n",
       "      <td>27in FHD Monitor</td>\n",
       "      <td>1</td>\n",
       "      <td>149.99</td>\n",
       "      <td>06/01/19 19:29</td>\n",
       "      <td>495 North St, New York City, NY 10001</td>\n",
       "    </tr>\n",
       "    <tr>\n",
       "      <th>13619</th>\n",
       "      <td>222907</td>\n",
       "      <td>USB-C Charging Cable</td>\n",
       "      <td>1</td>\n",
       "      <td>11.95</td>\n",
       "      <td>06/22/19 18:57</td>\n",
       "      <td>319 Ridge St, San Francisco, CA 94016</td>\n",
       "    </tr>\n",
       "    <tr>\n",
       "      <th>13620</th>\n",
       "      <td>222908</td>\n",
       "      <td>USB-C Charging Cable</td>\n",
       "      <td>1</td>\n",
       "      <td>11.95</td>\n",
       "      <td>06/26/19 18:35</td>\n",
       "      <td>916 Main St, San Francisco, CA 94016</td>\n",
       "    </tr>\n",
       "    <tr>\n",
       "      <th>13621</th>\n",
       "      <td>222909</td>\n",
       "      <td>AAA Batteries (4-pack)</td>\n",
       "      <td>1</td>\n",
       "      <td>2.99</td>\n",
       "      <td>06/25/19 14:33</td>\n",
       "      <td>209 11th St, Atlanta, GA 30301</td>\n",
       "    </tr>\n",
       "  </tbody>\n",
       "</table>\n",
       "<p>186850 rows × 6 columns</p>\n",
       "</div>"
      ],
      "text/plain": [
       "      Order ID                 Product Quantity Ordered Price Each  \\\n",
       "0       295665      Macbook Pro Laptop                1       1700   \n",
       "1       295666      LG Washing Machine                1      600.0   \n",
       "2       295667    USB-C Charging Cable                1      11.95   \n",
       "3       295668        27in FHD Monitor                1     149.99   \n",
       "4       295669    USB-C Charging Cable                1      11.95   \n",
       "...        ...                     ...              ...        ...   \n",
       "13617   222905  AAA Batteries (4-pack)                1       2.99   \n",
       "13618   222906        27in FHD Monitor                1     149.99   \n",
       "13619   222907    USB-C Charging Cable                1      11.95   \n",
       "13620   222908    USB-C Charging Cable                1      11.95   \n",
       "13621   222909  AAA Batteries (4-pack)                1       2.99   \n",
       "\n",
       "           Order Date                        Purchase Address  \n",
       "0      12/30/19 00:01  136 Church St, New York City, NY 10001  \n",
       "1      12/29/19 07:03     562 2nd St, New York City, NY 10001  \n",
       "2      12/12/19 18:21    277 Main St, New York City, NY 10001  \n",
       "3      12/22/19 15:13     410 6th St, San Francisco, CA 94016  \n",
       "4      12/18/19 12:38           43 Hill St, Atlanta, GA 30301  \n",
       "...               ...                                     ...  \n",
       "13617  06/07/19 19:02           795 Pine St, Boston, MA 02215  \n",
       "13618  06/01/19 19:29   495 North St, New York City, NY 10001  \n",
       "13619  06/22/19 18:57   319 Ridge St, San Francisco, CA 94016  \n",
       "13620  06/26/19 18:35    916 Main St, San Francisco, CA 94016  \n",
       "13621  06/25/19 14:33          209 11th St, Atlanta, GA 30301  \n",
       "\n",
       "[186850 rows x 6 columns]"
      ]
     },
     "execution_count": 9,
     "metadata": {},
     "output_type": "execute_result"
    }
   ],
   "source": [
    "\n",
    "files = [file for file in os.listdir() if file.endswith('.csv')] \n",
    "\n",
    "df = pd.DataFrame()\n",
    "\n",
    "for file in files:\n",
    "    df2 = pd.read_csv(file)\n",
    "    df= pd.concat([df, df2])\n",
    "    \n",
    "df.to_csv(\"allmonthssales\", index=False)\n",
    "df"
   ]
  },
  {
   "cell_type": "markdown",
   "id": "de344569-6f70-445f-8fbc-f35835003860",
   "metadata": {},
   "source": [
    "#### Reading updated csv file"
   ]
  },
  {
   "cell_type": "code",
   "execution_count": 11,
   "id": "2b6a732e-4597-4aa9-aa78-ef0cf8acd840",
   "metadata": {},
   "outputs": [],
   "source": [
    "df = pd.read_csv(\"allmonthssales\")"
   ]
  },
  {
   "cell_type": "code",
   "execution_count": 12,
   "id": "028a3eff-8a74-4ea3-a71e-518820d312c4",
   "metadata": {},
   "outputs": [
    {
     "data": {
      "text/html": [
       "<div>\n",
       "<style scoped>\n",
       "    .dataframe tbody tr th:only-of-type {\n",
       "        vertical-align: middle;\n",
       "    }\n",
       "\n",
       "    .dataframe tbody tr th {\n",
       "        vertical-align: top;\n",
       "    }\n",
       "\n",
       "    .dataframe thead th {\n",
       "        text-align: right;\n",
       "    }\n",
       "</style>\n",
       "<table border=\"1\" class=\"dataframe\">\n",
       "  <thead>\n",
       "    <tr style=\"text-align: right;\">\n",
       "      <th></th>\n",
       "      <th>Order ID</th>\n",
       "      <th>Product</th>\n",
       "      <th>Quantity Ordered</th>\n",
       "      <th>Price Each</th>\n",
       "      <th>Order Date</th>\n",
       "      <th>Purchase Address</th>\n",
       "    </tr>\n",
       "  </thead>\n",
       "  <tbody>\n",
       "    <tr>\n",
       "      <th>0</th>\n",
       "      <td>295665</td>\n",
       "      <td>Macbook Pro Laptop</td>\n",
       "      <td>1</td>\n",
       "      <td>1700</td>\n",
       "      <td>12/30/19 00:01</td>\n",
       "      <td>136 Church St, New York City, NY 10001</td>\n",
       "    </tr>\n",
       "    <tr>\n",
       "      <th>1</th>\n",
       "      <td>295666</td>\n",
       "      <td>LG Washing Machine</td>\n",
       "      <td>1</td>\n",
       "      <td>600.0</td>\n",
       "      <td>12/29/19 07:03</td>\n",
       "      <td>562 2nd St, New York City, NY 10001</td>\n",
       "    </tr>\n",
       "    <tr>\n",
       "      <th>2</th>\n",
       "      <td>295667</td>\n",
       "      <td>USB-C Charging Cable</td>\n",
       "      <td>1</td>\n",
       "      <td>11.95</td>\n",
       "      <td>12/12/19 18:21</td>\n",
       "      <td>277 Main St, New York City, NY 10001</td>\n",
       "    </tr>\n",
       "    <tr>\n",
       "      <th>3</th>\n",
       "      <td>295668</td>\n",
       "      <td>27in FHD Monitor</td>\n",
       "      <td>1</td>\n",
       "      <td>149.99</td>\n",
       "      <td>12/22/19 15:13</td>\n",
       "      <td>410 6th St, San Francisco, CA 94016</td>\n",
       "    </tr>\n",
       "    <tr>\n",
       "      <th>4</th>\n",
       "      <td>295669</td>\n",
       "      <td>USB-C Charging Cable</td>\n",
       "      <td>1</td>\n",
       "      <td>11.95</td>\n",
       "      <td>12/18/19 12:38</td>\n",
       "      <td>43 Hill St, Atlanta, GA 30301</td>\n",
       "    </tr>\n",
       "  </tbody>\n",
       "</table>\n",
       "</div>"
      ],
      "text/plain": [
       "  Order ID               Product Quantity Ordered Price Each      Order Date  \\\n",
       "0   295665    Macbook Pro Laptop                1       1700  12/30/19 00:01   \n",
       "1   295666    LG Washing Machine                1      600.0  12/29/19 07:03   \n",
       "2   295667  USB-C Charging Cable                1      11.95  12/12/19 18:21   \n",
       "3   295668      27in FHD Monitor                1     149.99  12/22/19 15:13   \n",
       "4   295669  USB-C Charging Cable                1      11.95  12/18/19 12:38   \n",
       "\n",
       "                         Purchase Address  \n",
       "0  136 Church St, New York City, NY 10001  \n",
       "1     562 2nd St, New York City, NY 10001  \n",
       "2    277 Main St, New York City, NY 10001  \n",
       "3     410 6th St, San Francisco, CA 94016  \n",
       "4           43 Hill St, Atlanta, GA 30301  "
      ]
     },
     "execution_count": 12,
     "metadata": {},
     "output_type": "execute_result"
    }
   ],
   "source": [
    "df.head()"
   ]
  },
  {
   "cell_type": "markdown",
   "id": "24e69e8f-f9ed-47de-804d-b4d6dea2db5c",
   "metadata": {},
   "source": [
    "### Clean up the data"
   ]
  },
  {
   "cell_type": "code",
   "execution_count": 14,
   "id": "eca8df26-f8c5-48bf-8db5-71c375445b38",
   "metadata": {},
   "outputs": [
    {
     "name": "stdout",
     "output_type": "stream",
     "text": [
      "<class 'pandas.core.frame.DataFrame'>\n",
      "RangeIndex: 186850 entries, 0 to 186849\n",
      "Data columns (total 6 columns):\n",
      " #   Column            Non-Null Count   Dtype \n",
      "---  ------            --------------   ----- \n",
      " 0   Order ID          186305 non-null  object\n",
      " 1   Product           186305 non-null  object\n",
      " 2   Quantity Ordered  186305 non-null  object\n",
      " 3   Price Each        186305 non-null  object\n",
      " 4   Order Date        186305 non-null  object\n",
      " 5   Purchase Address  186305 non-null  object\n",
      "dtypes: object(6)\n",
      "memory usage: 8.6+ MB\n"
     ]
    }
   ],
   "source": [
    "df.info()"
   ]
  },
  {
   "cell_type": "code",
   "execution_count": 15,
   "id": "1026d9b6-5512-4423-b24a-4a5ca3c6a241",
   "metadata": {},
   "outputs": [
    {
     "data": {
      "text/plain": [
       "Order ID            545\n",
       "Product             545\n",
       "Quantity Ordered    545\n",
       "Price Each          545\n",
       "Order Date          545\n",
       "Purchase Address    545\n",
       "dtype: int64"
      ]
     },
     "execution_count": 15,
     "metadata": {},
     "output_type": "execute_result"
    }
   ],
   "source": [
    "df.isnull().sum()"
   ]
  },
  {
   "cell_type": "markdown",
   "id": "6642997d-1a00-484c-925a-e6b48c1c2758",
   "metadata": {},
   "source": [
    "### Dropping null values"
   ]
  },
  {
   "cell_type": "code",
   "execution_count": 17,
   "id": "d9883ce6-3b35-48a9-b081-760401f47959",
   "metadata": {},
   "outputs": [],
   "source": [
    "df = df.dropna()"
   ]
  },
  {
   "cell_type": "code",
   "execution_count": 18,
   "id": "d54d6b20-41a5-4865-920b-15801175df22",
   "metadata": {},
   "outputs": [
    {
     "data": {
      "text/plain": [
       "Order ID            0\n",
       "Product             0\n",
       "Quantity Ordered    0\n",
       "Price Each          0\n",
       "Order Date          0\n",
       "Purchase Address    0\n",
       "dtype: int64"
      ]
     },
     "execution_count": 18,
     "metadata": {},
     "output_type": "execute_result"
    }
   ],
   "source": [
    "df.isnull().sum()"
   ]
  },
  {
   "cell_type": "markdown",
   "id": "a17844c4-8e2b-457f-b5dc-5fbb7188bed9",
   "metadata": {},
   "source": [
    "#### removing unnecessary spaces if any from column name"
   ]
  },
  {
   "cell_type": "code",
   "execution_count": 20,
   "id": "adc8ff07-0b05-4eb0-a1d5-aca226ed59e5",
   "metadata": {},
   "outputs": [],
   "source": [
    "df.columns=df.columns.str.strip()##removes unnecessary spaces from column name"
   ]
  },
  {
   "cell_type": "code",
   "execution_count": 21,
   "id": "a696613d-56ba-4b71-af06-b5a6844ab79b",
   "metadata": {},
   "outputs": [
    {
     "name": "stdout",
     "output_type": "stream",
     "text": [
      "Index([   254,    705,   1101,   2875,   3708,   3793,   3812,   4218,   5143,\n",
      "         5293,\n",
      "       ...\n",
      "       179246, 180955, 181479, 182134, 182146, 183671, 184012, 184041, 184275,\n",
      "       186532],\n",
      "      dtype='int64', length=355)\n"
     ]
    }
   ],
   "source": [
    "indexes = df[df[\"Order Date\"] == \"Order Date\"].index\n",
    "print(indexes)"
   ]
  },
  {
   "cell_type": "markdown",
   "id": "320bddaf-3936-4157-8f61-d1e6b8efc9f9",
   "metadata": {},
   "source": [
    "#### dropping row where order date = order date and resetting the index"
   ]
  },
  {
   "cell_type": "code",
   "execution_count": 23,
   "id": "bfbeb551-bd07-4ee7-84ff-021e51e1c130",
   "metadata": {},
   "outputs": [],
   "source": [
    "\n",
    "df.drop(index=indexes,inplace =True)\n",
    "df.reset_index(drop =True,inplace=True)\n"
   ]
  },
  {
   "cell_type": "markdown",
   "id": "9e927c67-68fd-4327-bc32-9ebf262a3353",
   "metadata": {},
   "source": [
    "##### Converting columns to Correct Type"
   ]
  },
  {
   "cell_type": "code",
   "execution_count": 25,
   "id": "f6b846fb-b95b-4ad6-9dc4-5548ef8ed77a",
   "metadata": {},
   "outputs": [],
   "source": [
    "df[\"Quantity Ordered\"]=pd.to_numeric(df[\"Quantity Ordered\"])#make int\n",
    "df[\"Price Each\"]=pd.to_numeric(df[\"Price Each\"])#make float\n"
   ]
  },
  {
   "cell_type": "code",
   "execution_count": 26,
   "id": "6d4d5e63-6ef6-4a05-8481-c86d869ca3ca",
   "metadata": {},
   "outputs": [
    {
     "name": "stderr",
     "output_type": "stream",
     "text": [
      "/var/folders/d5/m856t4gd4vq7r_gyzw2htq4m0000gn/T/ipykernel_3613/13081262.py:1: UserWarning: Could not infer format, so each element will be parsed individually, falling back to `dateutil`. To ensure parsing is consistent and as-expected, please specify a format.\n",
      "  df[\"Order Date\"] = pd.to_datetime(df[\"Order Date\"])\n"
     ]
    }
   ],
   "source": [
    "df[\"Order Date\"] = pd.to_datetime(df[\"Order Date\"])"
   ]
  },
  {
   "cell_type": "code",
   "execution_count": 27,
   "id": "5941cb2b-7376-4e02-91cd-ba6f0bc005e8",
   "metadata": {},
   "outputs": [
    {
     "name": "stdout",
     "output_type": "stream",
     "text": [
      "<class 'pandas.core.frame.DataFrame'>\n",
      "RangeIndex: 185950 entries, 0 to 185949\n",
      "Data columns (total 6 columns):\n",
      " #   Column            Non-Null Count   Dtype         \n",
      "---  ------            --------------   -----         \n",
      " 0   Order ID          185950 non-null  object        \n",
      " 1   Product           185950 non-null  object        \n",
      " 2   Quantity Ordered  185950 non-null  int64         \n",
      " 3   Price Each        185950 non-null  float64       \n",
      " 4   Order Date        185950 non-null  datetime64[ns]\n",
      " 5   Purchase Address  185950 non-null  object        \n",
      "dtypes: datetime64[ns](1), float64(1), int64(1), object(3)\n",
      "memory usage: 8.5+ MB\n"
     ]
    }
   ],
   "source": [
    "df.info()"
   ]
  },
  {
   "cell_type": "markdown",
   "id": "5e913a55-6f2d-44b5-ae27-ffc571385cdf",
   "metadata": {},
   "source": [
    "#### Augment Data with additional columns"
   ]
  },
  {
   "cell_type": "markdown",
   "id": "db9a5cff-8a1d-487c-98fc-1b6467500db2",
   "metadata": {},
   "source": [
    "#### Task2: Add Month Coloumn"
   ]
  },
  {
   "cell_type": "code",
   "execution_count": 30,
   "id": "4ba430f1-0d8a-4629-b512-61b6b13729f6",
   "metadata": {},
   "outputs": [],
   "source": [
    "df[\"Month\"]=df[\"Order Date\"].dt.month_name()\n",
    "\n"
   ]
  },
  {
   "cell_type": "markdown",
   "id": "f3df3070-5764-4ddd-a982-c15ca83796f1",
   "metadata": {},
   "source": [
    "#### Task3:Adding Sales Column"
   ]
  },
  {
   "cell_type": "code",
   "execution_count": 32,
   "id": "f5db183c-3093-4149-9153-e04990da0793",
   "metadata": {},
   "outputs": [
    {
     "data": {
      "text/html": [
       "<div>\n",
       "<style scoped>\n",
       "    .dataframe tbody tr th:only-of-type {\n",
       "        vertical-align: middle;\n",
       "    }\n",
       "\n",
       "    .dataframe tbody tr th {\n",
       "        vertical-align: top;\n",
       "    }\n",
       "\n",
       "    .dataframe thead th {\n",
       "        text-align: right;\n",
       "    }\n",
       "</style>\n",
       "<table border=\"1\" class=\"dataframe\">\n",
       "  <thead>\n",
       "    <tr style=\"text-align: right;\">\n",
       "      <th></th>\n",
       "      <th>Order ID</th>\n",
       "      <th>Product</th>\n",
       "      <th>Quantity Ordered</th>\n",
       "      <th>Price Each</th>\n",
       "      <th>Order Date</th>\n",
       "      <th>Purchase Address</th>\n",
       "      <th>Month</th>\n",
       "      <th>Sales</th>\n",
       "    </tr>\n",
       "  </thead>\n",
       "  <tbody>\n",
       "    <tr>\n",
       "      <th>0</th>\n",
       "      <td>295665</td>\n",
       "      <td>Macbook Pro Laptop</td>\n",
       "      <td>1</td>\n",
       "      <td>1700.00</td>\n",
       "      <td>2019-12-30 00:01:00</td>\n",
       "      <td>136 Church St, New York City, NY 10001</td>\n",
       "      <td>December</td>\n",
       "      <td>1700.00</td>\n",
       "    </tr>\n",
       "    <tr>\n",
       "      <th>1</th>\n",
       "      <td>295666</td>\n",
       "      <td>LG Washing Machine</td>\n",
       "      <td>1</td>\n",
       "      <td>600.00</td>\n",
       "      <td>2019-12-29 07:03:00</td>\n",
       "      <td>562 2nd St, New York City, NY 10001</td>\n",
       "      <td>December</td>\n",
       "      <td>600.00</td>\n",
       "    </tr>\n",
       "    <tr>\n",
       "      <th>2</th>\n",
       "      <td>295667</td>\n",
       "      <td>USB-C Charging Cable</td>\n",
       "      <td>1</td>\n",
       "      <td>11.95</td>\n",
       "      <td>2019-12-12 18:21:00</td>\n",
       "      <td>277 Main St, New York City, NY 10001</td>\n",
       "      <td>December</td>\n",
       "      <td>11.95</td>\n",
       "    </tr>\n",
       "    <tr>\n",
       "      <th>3</th>\n",
       "      <td>295668</td>\n",
       "      <td>27in FHD Monitor</td>\n",
       "      <td>1</td>\n",
       "      <td>149.99</td>\n",
       "      <td>2019-12-22 15:13:00</td>\n",
       "      <td>410 6th St, San Francisco, CA 94016</td>\n",
       "      <td>December</td>\n",
       "      <td>149.99</td>\n",
       "    </tr>\n",
       "    <tr>\n",
       "      <th>4</th>\n",
       "      <td>295669</td>\n",
       "      <td>USB-C Charging Cable</td>\n",
       "      <td>1</td>\n",
       "      <td>11.95</td>\n",
       "      <td>2019-12-18 12:38:00</td>\n",
       "      <td>43 Hill St, Atlanta, GA 30301</td>\n",
       "      <td>December</td>\n",
       "      <td>11.95</td>\n",
       "    </tr>\n",
       "    <tr>\n",
       "      <th>...</th>\n",
       "      <td>...</td>\n",
       "      <td>...</td>\n",
       "      <td>...</td>\n",
       "      <td>...</td>\n",
       "      <td>...</td>\n",
       "      <td>...</td>\n",
       "      <td>...</td>\n",
       "      <td>...</td>\n",
       "    </tr>\n",
       "    <tr>\n",
       "      <th>185945</th>\n",
       "      <td>222905</td>\n",
       "      <td>AAA Batteries (4-pack)</td>\n",
       "      <td>1</td>\n",
       "      <td>2.99</td>\n",
       "      <td>2019-06-07 19:02:00</td>\n",
       "      <td>795 Pine St, Boston, MA 02215</td>\n",
       "      <td>June</td>\n",
       "      <td>2.99</td>\n",
       "    </tr>\n",
       "    <tr>\n",
       "      <th>185946</th>\n",
       "      <td>222906</td>\n",
       "      <td>27in FHD Monitor</td>\n",
       "      <td>1</td>\n",
       "      <td>149.99</td>\n",
       "      <td>2019-06-01 19:29:00</td>\n",
       "      <td>495 North St, New York City, NY 10001</td>\n",
       "      <td>June</td>\n",
       "      <td>149.99</td>\n",
       "    </tr>\n",
       "    <tr>\n",
       "      <th>185947</th>\n",
       "      <td>222907</td>\n",
       "      <td>USB-C Charging Cable</td>\n",
       "      <td>1</td>\n",
       "      <td>11.95</td>\n",
       "      <td>2019-06-22 18:57:00</td>\n",
       "      <td>319 Ridge St, San Francisco, CA 94016</td>\n",
       "      <td>June</td>\n",
       "      <td>11.95</td>\n",
       "    </tr>\n",
       "    <tr>\n",
       "      <th>185948</th>\n",
       "      <td>222908</td>\n",
       "      <td>USB-C Charging Cable</td>\n",
       "      <td>1</td>\n",
       "      <td>11.95</td>\n",
       "      <td>2019-06-26 18:35:00</td>\n",
       "      <td>916 Main St, San Francisco, CA 94016</td>\n",
       "      <td>June</td>\n",
       "      <td>11.95</td>\n",
       "    </tr>\n",
       "    <tr>\n",
       "      <th>185949</th>\n",
       "      <td>222909</td>\n",
       "      <td>AAA Batteries (4-pack)</td>\n",
       "      <td>1</td>\n",
       "      <td>2.99</td>\n",
       "      <td>2019-06-25 14:33:00</td>\n",
       "      <td>209 11th St, Atlanta, GA 30301</td>\n",
       "      <td>June</td>\n",
       "      <td>2.99</td>\n",
       "    </tr>\n",
       "  </tbody>\n",
       "</table>\n",
       "<p>185950 rows × 8 columns</p>\n",
       "</div>"
      ],
      "text/plain": [
       "       Order ID                 Product  Quantity Ordered  Price Each  \\\n",
       "0        295665      Macbook Pro Laptop                 1     1700.00   \n",
       "1        295666      LG Washing Machine                 1      600.00   \n",
       "2        295667    USB-C Charging Cable                 1       11.95   \n",
       "3        295668        27in FHD Monitor                 1      149.99   \n",
       "4        295669    USB-C Charging Cable                 1       11.95   \n",
       "...         ...                     ...               ...         ...   \n",
       "185945   222905  AAA Batteries (4-pack)                 1        2.99   \n",
       "185946   222906        27in FHD Monitor                 1      149.99   \n",
       "185947   222907    USB-C Charging Cable                 1       11.95   \n",
       "185948   222908    USB-C Charging Cable                 1       11.95   \n",
       "185949   222909  AAA Batteries (4-pack)                 1        2.99   \n",
       "\n",
       "                Order Date                        Purchase Address     Month  \\\n",
       "0      2019-12-30 00:01:00  136 Church St, New York City, NY 10001  December   \n",
       "1      2019-12-29 07:03:00     562 2nd St, New York City, NY 10001  December   \n",
       "2      2019-12-12 18:21:00    277 Main St, New York City, NY 10001  December   \n",
       "3      2019-12-22 15:13:00     410 6th St, San Francisco, CA 94016  December   \n",
       "4      2019-12-18 12:38:00           43 Hill St, Atlanta, GA 30301  December   \n",
       "...                    ...                                     ...       ...   \n",
       "185945 2019-06-07 19:02:00           795 Pine St, Boston, MA 02215      June   \n",
       "185946 2019-06-01 19:29:00   495 North St, New York City, NY 10001      June   \n",
       "185947 2019-06-22 18:57:00   319 Ridge St, San Francisco, CA 94016      June   \n",
       "185948 2019-06-26 18:35:00    916 Main St, San Francisco, CA 94016      June   \n",
       "185949 2019-06-25 14:33:00          209 11th St, Atlanta, GA 30301      June   \n",
       "\n",
       "          Sales  \n",
       "0       1700.00  \n",
       "1        600.00  \n",
       "2         11.95  \n",
       "3        149.99  \n",
       "4         11.95  \n",
       "...         ...  \n",
       "185945     2.99  \n",
       "185946   149.99  \n",
       "185947    11.95  \n",
       "185948    11.95  \n",
       "185949     2.99  \n",
       "\n",
       "[185950 rows x 8 columns]"
      ]
     },
     "execution_count": 32,
     "metadata": {},
     "output_type": "execute_result"
    }
   ],
   "source": [
    "df[\"Sales\"]=df[\"Quantity Ordered\"]*df[\"Price Each\"]\n",
    "df"
   ]
  },
  {
   "cell_type": "markdown",
   "id": "e617d069-a56c-4d4e-9dcb-58c1bbda29bc",
   "metadata": {},
   "source": [
    "#### Task 4 : Adding city Column"
   ]
  },
  {
   "cell_type": "markdown",
   "id": "48a4e7f2-79ec-4f6a-a029-c7040186bca9",
   "metadata": {},
   "source": [
    "#### Adding city column"
   ]
  },
  {
   "cell_type": "code",
   "execution_count": 35,
   "id": "714103c1-2d22-40d8-a9aa-943dfbf6f977",
   "metadata": {},
   "outputs": [],
   "source": [
    "def get_city(address):\n",
    "    return address.split(\",\")[1].strip()  # Extract the second part and remove extra spaces\n",
    "def get_state(address):\n",
    "    return address.split(\",\")[2].split(\" \")[1]\n",
    "df[\"City\"] = df[\"Purchase Address\"].apply(lambda x:f\"{get_city(x)}({get_state(x)})\")\n"
   ]
  },
  {
   "cell_type": "code",
   "execution_count": 36,
   "id": "41c6e7e5-b981-423e-9e45-8747ae97f0e4",
   "metadata": {},
   "outputs": [
    {
     "data": {
      "text/html": [
       "<div>\n",
       "<style scoped>\n",
       "    .dataframe tbody tr th:only-of-type {\n",
       "        vertical-align: middle;\n",
       "    }\n",
       "\n",
       "    .dataframe tbody tr th {\n",
       "        vertical-align: top;\n",
       "    }\n",
       "\n",
       "    .dataframe thead th {\n",
       "        text-align: right;\n",
       "    }\n",
       "</style>\n",
       "<table border=\"1\" class=\"dataframe\">\n",
       "  <thead>\n",
       "    <tr style=\"text-align: right;\">\n",
       "      <th></th>\n",
       "      <th>Order ID</th>\n",
       "      <th>Product</th>\n",
       "      <th>Quantity Ordered</th>\n",
       "      <th>Price Each</th>\n",
       "      <th>Order Date</th>\n",
       "      <th>Purchase Address</th>\n",
       "      <th>Month</th>\n",
       "      <th>Sales</th>\n",
       "      <th>City</th>\n",
       "    </tr>\n",
       "  </thead>\n",
       "  <tbody>\n",
       "    <tr>\n",
       "      <th>0</th>\n",
       "      <td>295665</td>\n",
       "      <td>Macbook Pro Laptop</td>\n",
       "      <td>1</td>\n",
       "      <td>1700.00</td>\n",
       "      <td>2019-12-30 00:01:00</td>\n",
       "      <td>136 Church St, New York City, NY 10001</td>\n",
       "      <td>December</td>\n",
       "      <td>1700.00</td>\n",
       "      <td>New York City(NY)</td>\n",
       "    </tr>\n",
       "    <tr>\n",
       "      <th>1</th>\n",
       "      <td>295666</td>\n",
       "      <td>LG Washing Machine</td>\n",
       "      <td>1</td>\n",
       "      <td>600.00</td>\n",
       "      <td>2019-12-29 07:03:00</td>\n",
       "      <td>562 2nd St, New York City, NY 10001</td>\n",
       "      <td>December</td>\n",
       "      <td>600.00</td>\n",
       "      <td>New York City(NY)</td>\n",
       "    </tr>\n",
       "    <tr>\n",
       "      <th>2</th>\n",
       "      <td>295667</td>\n",
       "      <td>USB-C Charging Cable</td>\n",
       "      <td>1</td>\n",
       "      <td>11.95</td>\n",
       "      <td>2019-12-12 18:21:00</td>\n",
       "      <td>277 Main St, New York City, NY 10001</td>\n",
       "      <td>December</td>\n",
       "      <td>11.95</td>\n",
       "      <td>New York City(NY)</td>\n",
       "    </tr>\n",
       "    <tr>\n",
       "      <th>3</th>\n",
       "      <td>295668</td>\n",
       "      <td>27in FHD Monitor</td>\n",
       "      <td>1</td>\n",
       "      <td>149.99</td>\n",
       "      <td>2019-12-22 15:13:00</td>\n",
       "      <td>410 6th St, San Francisco, CA 94016</td>\n",
       "      <td>December</td>\n",
       "      <td>149.99</td>\n",
       "      <td>San Francisco(CA)</td>\n",
       "    </tr>\n",
       "    <tr>\n",
       "      <th>4</th>\n",
       "      <td>295669</td>\n",
       "      <td>USB-C Charging Cable</td>\n",
       "      <td>1</td>\n",
       "      <td>11.95</td>\n",
       "      <td>2019-12-18 12:38:00</td>\n",
       "      <td>43 Hill St, Atlanta, GA 30301</td>\n",
       "      <td>December</td>\n",
       "      <td>11.95</td>\n",
       "      <td>Atlanta(GA)</td>\n",
       "    </tr>\n",
       "    <tr>\n",
       "      <th>...</th>\n",
       "      <td>...</td>\n",
       "      <td>...</td>\n",
       "      <td>...</td>\n",
       "      <td>...</td>\n",
       "      <td>...</td>\n",
       "      <td>...</td>\n",
       "      <td>...</td>\n",
       "      <td>...</td>\n",
       "      <td>...</td>\n",
       "    </tr>\n",
       "    <tr>\n",
       "      <th>185945</th>\n",
       "      <td>222905</td>\n",
       "      <td>AAA Batteries (4-pack)</td>\n",
       "      <td>1</td>\n",
       "      <td>2.99</td>\n",
       "      <td>2019-06-07 19:02:00</td>\n",
       "      <td>795 Pine St, Boston, MA 02215</td>\n",
       "      <td>June</td>\n",
       "      <td>2.99</td>\n",
       "      <td>Boston(MA)</td>\n",
       "    </tr>\n",
       "    <tr>\n",
       "      <th>185946</th>\n",
       "      <td>222906</td>\n",
       "      <td>27in FHD Monitor</td>\n",
       "      <td>1</td>\n",
       "      <td>149.99</td>\n",
       "      <td>2019-06-01 19:29:00</td>\n",
       "      <td>495 North St, New York City, NY 10001</td>\n",
       "      <td>June</td>\n",
       "      <td>149.99</td>\n",
       "      <td>New York City(NY)</td>\n",
       "    </tr>\n",
       "    <tr>\n",
       "      <th>185947</th>\n",
       "      <td>222907</td>\n",
       "      <td>USB-C Charging Cable</td>\n",
       "      <td>1</td>\n",
       "      <td>11.95</td>\n",
       "      <td>2019-06-22 18:57:00</td>\n",
       "      <td>319 Ridge St, San Francisco, CA 94016</td>\n",
       "      <td>June</td>\n",
       "      <td>11.95</td>\n",
       "      <td>San Francisco(CA)</td>\n",
       "    </tr>\n",
       "    <tr>\n",
       "      <th>185948</th>\n",
       "      <td>222908</td>\n",
       "      <td>USB-C Charging Cable</td>\n",
       "      <td>1</td>\n",
       "      <td>11.95</td>\n",
       "      <td>2019-06-26 18:35:00</td>\n",
       "      <td>916 Main St, San Francisco, CA 94016</td>\n",
       "      <td>June</td>\n",
       "      <td>11.95</td>\n",
       "      <td>San Francisco(CA)</td>\n",
       "    </tr>\n",
       "    <tr>\n",
       "      <th>185949</th>\n",
       "      <td>222909</td>\n",
       "      <td>AAA Batteries (4-pack)</td>\n",
       "      <td>1</td>\n",
       "      <td>2.99</td>\n",
       "      <td>2019-06-25 14:33:00</td>\n",
       "      <td>209 11th St, Atlanta, GA 30301</td>\n",
       "      <td>June</td>\n",
       "      <td>2.99</td>\n",
       "      <td>Atlanta(GA)</td>\n",
       "    </tr>\n",
       "  </tbody>\n",
       "</table>\n",
       "<p>185950 rows × 9 columns</p>\n",
       "</div>"
      ],
      "text/plain": [
       "       Order ID                 Product  Quantity Ordered  Price Each  \\\n",
       "0        295665      Macbook Pro Laptop                 1     1700.00   \n",
       "1        295666      LG Washing Machine                 1      600.00   \n",
       "2        295667    USB-C Charging Cable                 1       11.95   \n",
       "3        295668        27in FHD Monitor                 1      149.99   \n",
       "4        295669    USB-C Charging Cable                 1       11.95   \n",
       "...         ...                     ...               ...         ...   \n",
       "185945   222905  AAA Batteries (4-pack)                 1        2.99   \n",
       "185946   222906        27in FHD Monitor                 1      149.99   \n",
       "185947   222907    USB-C Charging Cable                 1       11.95   \n",
       "185948   222908    USB-C Charging Cable                 1       11.95   \n",
       "185949   222909  AAA Batteries (4-pack)                 1        2.99   \n",
       "\n",
       "                Order Date                        Purchase Address     Month  \\\n",
       "0      2019-12-30 00:01:00  136 Church St, New York City, NY 10001  December   \n",
       "1      2019-12-29 07:03:00     562 2nd St, New York City, NY 10001  December   \n",
       "2      2019-12-12 18:21:00    277 Main St, New York City, NY 10001  December   \n",
       "3      2019-12-22 15:13:00     410 6th St, San Francisco, CA 94016  December   \n",
       "4      2019-12-18 12:38:00           43 Hill St, Atlanta, GA 30301  December   \n",
       "...                    ...                                     ...       ...   \n",
       "185945 2019-06-07 19:02:00           795 Pine St, Boston, MA 02215      June   \n",
       "185946 2019-06-01 19:29:00   495 North St, New York City, NY 10001      June   \n",
       "185947 2019-06-22 18:57:00   319 Ridge St, San Francisco, CA 94016      June   \n",
       "185948 2019-06-26 18:35:00    916 Main St, San Francisco, CA 94016      June   \n",
       "185949 2019-06-25 14:33:00          209 11th St, Atlanta, GA 30301      June   \n",
       "\n",
       "          Sales               City  \n",
       "0       1700.00  New York City(NY)  \n",
       "1        600.00  New York City(NY)  \n",
       "2         11.95  New York City(NY)  \n",
       "3        149.99  San Francisco(CA)  \n",
       "4         11.95        Atlanta(GA)  \n",
       "...         ...                ...  \n",
       "185945     2.99         Boston(MA)  \n",
       "185946   149.99  New York City(NY)  \n",
       "185947    11.95  San Francisco(CA)  \n",
       "185948    11.95  San Francisco(CA)  \n",
       "185949     2.99        Atlanta(GA)  \n",
       "\n",
       "[185950 rows x 9 columns]"
      ]
     },
     "execution_count": 36,
     "metadata": {},
     "output_type": "execute_result"
    }
   ],
   "source": [
    "df"
   ]
  },
  {
   "cell_type": "markdown",
   "id": "2e8eac7c-87bb-4d7e-ad2f-bf03a0fa5cb1",
   "metadata": {},
   "source": [
    "#### Question 1 : What was the best month for sales and how much was earned that month"
   ]
  },
  {
   "cell_type": "code",
   "execution_count": 38,
   "id": "0e9b10bc-c977-4211-81ed-0a1476a6ec20",
   "metadata": {},
   "outputs": [
    {
     "name": "stderr",
     "output_type": "stream",
     "text": [
      "/var/folders/d5/m856t4gd4vq7r_gyzw2htq4m0000gn/T/ipykernel_3613/3736853097.py:6: FutureWarning: The default of observed=False is deprecated and will be changed to True in a future version of pandas. Pass observed=False to retain current behavior or observed=True to adopt the future default and silence this warning.\n",
      "  df.groupby(\"Month\")[\"Sales\"].sum().sort_index()\n"
     ]
    },
    {
     "data": {
      "text/plain": [
       "Month\n",
       "January      1822256.73\n",
       "February     2202022.42\n",
       "March        2807100.38\n",
       "April        3390670.24\n",
       "May          3152606.75\n",
       "June         2577802.26\n",
       "July         2647775.76\n",
       "August       2244467.88\n",
       "September    2097560.13\n",
       "October      3736726.88\n",
       "November     3199603.20\n",
       "December     4613443.34\n",
       "Name: Sales, dtype: float64"
      ]
     },
     "execution_count": 38,
     "metadata": {},
     "output_type": "execute_result"
    }
   ],
   "source": [
    "df[\"Month\"] = pd.Categorical(df[\"Month\"], categories=[\n",
    "    \"January\", \"February\", \"March\", \"April\",\"May\",\"June\",\n",
    "    \"July\", \"August\", \"September\", \"October\", \"November\", \"December\"\n",
    "], ordered=True)\n",
    "\n",
    "df.groupby(\"Month\")[\"Sales\"].sum().sort_index()"
   ]
  },
  {
   "cell_type": "code",
   "execution_count": 66,
   "id": "afa43731-630c-45dc-929b-ccac8d2a51e0",
   "metadata": {},
   "outputs": [
    {
     "name": "stderr",
     "output_type": "stream",
     "text": [
      "/var/folders/d5/m856t4gd4vq7r_gyzw2htq4m0000gn/T/ipykernel_3613/1877402683.py:5: FutureWarning: The default of observed=False is deprecated and will be changed to True in a future version of pandas. Pass observed=False to retain current behavior or observed=True to adopt the future default and silence this warning.\n",
      "  df.groupby(\"Month\")[\"Sales\"].sum().sort_index().plot(kind = \"bar\",title =\"Sales by Month\",xlabel =\"Month\",ylabel = \"Sales\")\n"
     ]
    },
    {
     "data": {
      "text/plain": [
       "<Axes: title={'center': 'Sales by Month'}, xlabel='Month', ylabel='Sales'>"
      ]
     },
     "execution_count": 66,
     "metadata": {},
     "output_type": "execute_result"
    },
    {
     "data": {
      "image/png": "[encoded data removed]",
      "text/plain": [
       "<Figure size 640x480 with 1 Axes>"
      ]
     },
     "metadata": {},
     "output_type": "display_data"
    }
   ],
   "source": [
    "df[\"Month\"] = pd.Categorical(df[\"Month\"], categories=[\n",
    "    \"January\", \"February\", \"March\", \"April\",\"May\",\"June\",\n",
    "    \"July\", \"August\", \"September\", \"October\", \"November\", \"December\"\n",
    "], ordered=True)\n",
    "df.groupby(\"Month\")[\"Sales\"].sum().sort_index().plot(kind = \"bar\",title =\"Sales by Month\",xlabel =\"Month\",ylabel = \"Sales\")"
   ]
  },
  {
   "cell_type": "markdown",
   "id": "4d763858-3ac7-4ad0-bcb6-efb8ae150146",
   "metadata": {},
   "source": [
    "#### Question 3: Which season has highes sales?"
   ]
  },
  {
   "cell_type": "markdown",
   "id": "30fa0764-b0c1-4eb6-af8c-83c6953176a9",
   "metadata": {},
   "source": [
    "#### Question 3: Which season has highes sales"
   ]
  },
  {
   "cell_type": "code",
   "execution_count": 84,
   "id": "6d8ccf6a-3012-499f-abb2-724b0ab3082a",
   "metadata": {},
   "outputs": [
    {
     "data": {
      "image/png": "[encoded data removed]",
      "text/plain": [
       "<Figure size 1000x800 with 1 Axes>"
      ]
     },
     "metadata": {},
     "output_type": "display_data"
    }
   ],
   "source": [
    "# Define a mapping of month names to seasons\n",
    "def get_season(month):\n",
    "    season_map = {\n",
    "        \"December\": \"Winter\", \"January\": \"Winter\", \"February\": \"Winter\",\n",
    "        \"March\": \"Spring\", \"April\": \"Spring\", \"May\": \"Spring\",\n",
    "        \"June\": \"Summer\", \"July\": \"Summer\", \"August\": \"Summer\",\n",
    "        \"September\": \"Fall\", \"October\": \"Fall\", \"November\": \"Fall\"\n",
    "    }\n",
    "    return season_map.get(month, \"Unknown\")  # Default to \"Unknown\" if month not found\n",
    "\n",
    "# Apply the function to create a new column\n",
    "df[\"Season\"] = df[\"Month\"].apply(get_season)\n",
    "df[\"Sales\"] = pd.to_numeric(df[\"Sales\"], errors=\"coerce\")\n",
    "\n",
    "# Group by season and sum sales\n",
    "season_sales = df.groupby(\"Season\")[\"Sales\"].sum()\n",
    "\n",
    "# Plot the sales data by season\n",
    "import matplotlib.pyplot as plt\n",
    "\n",
    "plt.figure(figsize=(10,8))\n",
    "plt.bar(season_sales.index, season_sales.values, color=['blue', 'green', 'red', 'orange'])\n",
    "plt.ylabel(\"Sales ($)\")\n",
    "plt.xlabel(\"Season\")\n",
    "plt.title(\"Sales by Season\")\n",
    "plt.show()\n",
    "\n",
    "\n"
   ]
  },
  {
   "cell_type": "markdown",
   "id": "0e352a97-7330-4aaa-a1a7-fbba5e760ad4",
   "metadata": {},
   "source": [
    "##### Question 2: Which city has highest number of sales"
   ]
  },
  {
   "cell_type": "code",
   "execution_count": 42,
   "id": "2981f60c-af4d-4be7-b986-c4f3197eedeb",
   "metadata": {},
   "outputs": [
    {
     "data": {
      "text/plain": [
       "City\n",
       "Portland(ME)          449758.27\n",
       "Austin(TX)           1819581.75\n",
       "Portland(OR)         1870732.34\n",
       "Seattle(WA)          2747755.48\n",
       "Dallas(TX)           2767975.40\n",
       "Atlanta(GA)          2795498.58\n",
       "Boston(MA)           3661642.01\n",
       "New York City(NY)    4664317.43\n",
       "Los Angeles(CA)      5452570.80\n",
       "San Francisco(CA)    8262203.91\n",
       "Name: Sales, dtype: float64"
      ]
     },
     "execution_count": 42,
     "metadata": {},
     "output_type": "execute_result"
    }
   ],
   "source": [
    "df.groupby(\"City\")[\"Sales\"].sum().sort_values()"
   ]
  },
  {
   "cell_type": "code",
   "execution_count": 64,
   "id": "5231f989-18fe-4dcc-b726-4543350cdf36",
   "metadata": {},
   "outputs": [
    {
     "data": {
      "image/png": "[encoded data removed]",
      "text/plain": [
       "<Figure size 640x480 with 1 Axes>"
      ]
     },
     "metadata": {},
     "output_type": "display_data"
    }
   ],
   "source": [
    "#using matplotlib\n",
    "x =df.groupby(\"City\")[\"Sales\"].sum().sort_values()\n",
    "plt.bar(x.index,x.values)\n",
    "plt.xticks(rotation =45)\n",
    "plt.xlabel(\"City Name\")\n",
    "plt.ylabel(\"Sales\")\n",
    "plt.style.use(\"dark_background\")\n",
    "plt.show()"
   ]
  },
  {
   "cell_type": "markdown",
   "id": "c8f9df73-e1d3-4300-90f7-5e84381adfc9",
   "metadata": {},
   "source": [
    "#### What time should we display advertisements to maximize likelihood of customer's buying product?"
   ]
  },
  {
   "cell_type": "code",
   "execution_count": 47,
   "id": "372c942b-0ec5-4b1b-8553-00ec8b8e84c8",
   "metadata": {},
   "outputs": [
    {
     "data": {
      "text/plain": [
       "([<matplotlib.axis.XTick at 0x178655580>,\n",
       "  <matplotlib.axis.XTick at 0x17b413440>,\n",
       "  <matplotlib.axis.XTick at 0x17b40b0e0>,\n",
       "  <matplotlib.axis.XTick at 0x17b412d50>,\n",
       "  <matplotlib.axis.XTick at 0x17b45bf80>,\n",
       "  <matplotlib.axis.XTick at 0x17b4ac8c0>,\n",
       "  <matplotlib.axis.XTick at 0x17b4ad1f0>,\n",
       "  <matplotlib.axis.XTick at 0x17b4adaf0>,\n",
       "  <matplotlib.axis.XTick at 0x17b4ad5b0>,\n",
       "  <matplotlib.axis.XTick at 0x17b4ae2d0>,\n",
       "  <matplotlib.axis.XTick at 0x17b4aec00>,\n",
       "  <matplotlib.axis.XTick at 0x17b4af590>,\n",
       "  <matplotlib.axis.XTick at 0x17b4afad0>,\n",
       "  <matplotlib.axis.XTick at 0x17b4aeea0>,\n",
       "  <matplotlib.axis.XTick at 0x17b4c4590>,\n",
       "  <matplotlib.axis.XTick at 0x17b4c4ec0>,\n",
       "  <matplotlib.axis.XTick at 0x17b4c5880>,\n",
       "  <matplotlib.axis.XTick at 0x17b4c6240>,\n",
       "  <matplotlib.axis.XTick at 0x17b4c6b70>,\n",
       "  <matplotlib.axis.XTick at 0x17b4c5520>,\n",
       "  <matplotlib.axis.XTick at 0x17b4c71d0>,\n",
       "  <matplotlib.axis.XTick at 0x17b4c7ad0>,\n",
       "  <matplotlib.axis.XTick at 0x17b4e0440>,\n",
       "  <matplotlib.axis.XTick at 0x17b4e0d10>],\n",
       " [Text(0, 0, '0'),\n",
       "  Text(1, 0, '1'),\n",
       "  Text(2, 0, '2'),\n",
       "  Text(3, 0, '3'),\n",
       "  Text(4, 0, '4'),\n",
       "  Text(5, 0, '5'),\n",
       "  Text(6, 0, '6'),\n",
       "  Text(7, 0, '7'),\n",
       "  Text(8, 0, '8'),\n",
       "  Text(9, 0, '9'),\n",
       "  Text(10, 0, '10'),\n",
       "  Text(11, 0, '11'),\n",
       "  Text(12, 0, '12'),\n",
       "  Text(13, 0, '13'),\n",
       "  Text(14, 0, '14'),\n",
       "  Text(15, 0, '15'),\n",
       "  Text(16, 0, '16'),\n",
       "  Text(17, 0, '17'),\n",
       "  Text(18, 0, '18'),\n",
       "  Text(19, 0, '19'),\n",
       "  Text(20, 0, '20'),\n",
       "  Text(21, 0, '21'),\n",
       "  Text(22, 0, '22'),\n",
       "  Text(23, 0, '23')])"
      ]
     },
     "execution_count": 47,
     "metadata": {},
     "output_type": "execute_result"
    },
    {
     "data": {
      "image/png": "[encoded data removed]",
      "text/plain": [
       "<Figure size 640x480 with 1 Axes>"
      ]
     },
     "metadata": {},
     "output_type": "display_data"
    }
   ],
   "source": [
    "df[\"Hour\"]=df[\"Order Date\"].dt.hour\n",
    "x =df.groupby(\"Hour\").count()[\"Product\"]\n",
    "plt.plot(x.index,x.values,marker = \"o\")\n",
    "plt.xlabel(\"Hour\")\n",
    "plt.ylabel(\"No of Orders\")\n",
    "plt.xticks(x.index)"
   ]
  },
  {
   "cell_type": "markdown",
   "id": "785deb28-1e9c-45a3-969c-9f26d2f334fe",
   "metadata": {},
   "source": [
    "#### Question 4: What Products are most ofenly sold together"
   ]
  },
  {
   "cell_type": "code",
   "execution_count": 50,
   "id": "e97dbbf1-bbfa-4fc0-8f2e-88eae8bbaa18",
   "metadata": {},
   "outputs": [
    {
     "name": "stderr",
     "output_type": "stream",
     "text": [
      "/var/folders/d5/m856t4gd4vq7r_gyzw2htq4m0000gn/T/ipykernel_3613/827904866.py:2: SettingWithCopyWarning: \n",
      "A value is trying to be set on a copy of a slice from a DataFrame.\n",
      "Try using .loc[row_indexer,col_indexer] = value instead\n",
      "\n",
      "See the caveats in the documentation: https://pandas.pydata.org/pandas-docs/stable/user_guide/indexing.html#returning-a-view-versus-a-copy\n",
      "  df2[\"Grouped_Orders\"]=df2.groupby(\"Order ID\")[\"Product\"].transform(lambda x:\",\".join(x))\n"
     ]
    },
    {
     "data": {
      "text/html": [
       "<div>\n",
       "<style scoped>\n",
       "    .dataframe tbody tr th:only-of-type {\n",
       "        vertical-align: middle;\n",
       "    }\n",
       "\n",
       "    .dataframe tbody tr th {\n",
       "        vertical-align: top;\n",
       "    }\n",
       "\n",
       "    .dataframe thead th {\n",
       "        text-align: right;\n",
       "    }\n",
       "</style>\n",
       "<table border=\"1\" class=\"dataframe\">\n",
       "  <thead>\n",
       "    <tr style=\"text-align: right;\">\n",
       "      <th></th>\n",
       "      <th>Order ID</th>\n",
       "      <th>Grouped_Orders</th>\n",
       "    </tr>\n",
       "  </thead>\n",
       "  <tbody>\n",
       "    <tr>\n",
       "      <th>16</th>\n",
       "      <td>295681</td>\n",
       "      <td>Google Phone,USB-C Charging Cable,Bose SoundSp...</td>\n",
       "    </tr>\n",
       "    <tr>\n",
       "      <th>36</th>\n",
       "      <td>295698</td>\n",
       "      <td>Vareebadd Phone,USB-C Charging Cable</td>\n",
       "    </tr>\n",
       "    <tr>\n",
       "      <th>42</th>\n",
       "      <td>295703</td>\n",
       "      <td>AA Batteries (4-pack),Bose SoundSport Headphones</td>\n",
       "    </tr>\n",
       "    <tr>\n",
       "      <th>66</th>\n",
       "      <td>295726</td>\n",
       "      <td>iPhone,Lightning Charging Cable</td>\n",
       "    </tr>\n",
       "    <tr>\n",
       "      <th>76</th>\n",
       "      <td>295735</td>\n",
       "      <td>iPhone,Apple Airpods Headphones,Wired Headphones</td>\n",
       "    </tr>\n",
       "    <tr>\n",
       "      <th>80</th>\n",
       "      <td>295737</td>\n",
       "      <td>iPhone,Lightning Charging Cable</td>\n",
       "    </tr>\n",
       "    <tr>\n",
       "      <th>97</th>\n",
       "      <td>295753</td>\n",
       "      <td>34in Ultrawide Monitor,Lightning Charging Cable</td>\n",
       "    </tr>\n",
       "    <tr>\n",
       "      <th>104</th>\n",
       "      <td>295759</td>\n",
       "      <td>Bose SoundSport Headphones,Wired Headphones</td>\n",
       "    </tr>\n",
       "    <tr>\n",
       "      <th>129</th>\n",
       "      <td>295783</td>\n",
       "      <td>Vareebadd Phone,USB-C Charging Cable</td>\n",
       "    </tr>\n",
       "    <tr>\n",
       "      <th>133</th>\n",
       "      <td>295786</td>\n",
       "      <td>USB-C Charging Cable,Apple Airpods Headphones</td>\n",
       "    </tr>\n",
       "  </tbody>\n",
       "</table>\n",
       "</div>"
      ],
      "text/plain": [
       "    Order ID                                     Grouped_Orders\n",
       "16    295681  Google Phone,USB-C Charging Cable,Bose SoundSp...\n",
       "36    295698               Vareebadd Phone,USB-C Charging Cable\n",
       "42    295703   AA Batteries (4-pack),Bose SoundSport Headphones\n",
       "66    295726                    iPhone,Lightning Charging Cable\n",
       "76    295735   iPhone,Apple Airpods Headphones,Wired Headphones\n",
       "80    295737                    iPhone,Lightning Charging Cable\n",
       "97    295753    34in Ultrawide Monitor,Lightning Charging Cable\n",
       "104   295759        Bose SoundSport Headphones,Wired Headphones\n",
       "129   295783               Vareebadd Phone,USB-C Charging Cable\n",
       "133   295786      USB-C Charging Cable,Apple Airpods Headphones"
      ]
     },
     "execution_count": 50,
     "metadata": {},
     "output_type": "execute_result"
    }
   ],
   "source": [
    "df2=df[df[\"Order ID\"].duplicated(keep =False)]\n",
    "df2[\"Grouped_Orders\"]=df2.groupby(\"Order ID\")[\"Product\"].transform(lambda x:\",\".join(x))\n",
    "df2=df2[[\"Order ID\",\"Grouped_Orders\"]].drop_duplicates()\n",
    "df2.head(10)"
   ]
  },
  {
   "cell_type": "code",
   "execution_count": 52,
   "id": "54f7699b-a070-446b-9d78-44b7144e8595",
   "metadata": {},
   "outputs": [
    {
     "name": "stdout",
     "output_type": "stream",
     "text": [
      "[(('iPhone', 'Lightning Charging Cable'), 1005), (('Google Phone', 'USB-C Charging Cable'), 987), (('iPhone', 'Wired Headphones'), 447), (('Google Phone', 'Wired Headphones'), 414), (('Vareebadd Phone', 'USB-C Charging Cable'), 361), (('iPhone', 'Apple Airpods Headphones'), 360), (('Google Phone', 'Bose SoundSport Headphones'), 220), (('USB-C Charging Cable', 'Wired Headphones'), 160), (('Vareebadd Phone', 'Wired Headphones'), 143), (('Lightning Charging Cable', 'Wired Headphones'), 92)]\n"
     ]
    }
   ],
   "source": [
    "from itertools import combinations\n",
    "from collections import Counter\n",
    "\n",
    "# Creating a list of all product combinations from Grouped_Orders\n",
    "product_combinations = []\n",
    "\n",
    "for orders in df2[\"Grouped_Orders\"]:\n",
    "    products = orders.split(\",\")\n",
    "    if len(products) > 1:\n",
    "        product_combinations.extend(combinations(products, 2))  # Get all pairwise combinations\n",
    "\n",
    "# Count the frequency of each product pair\n",
    "combination_counts = Counter(product_combinations)\n",
    "\n",
    "# Display the top 10 most common product pairs\n",
    "print(combination_counts.most_common(10))\n"
   ]
  },
  {
   "cell_type": "markdown",
   "id": "6d6f9a66-9759-40f0-8f4e-26df4d804f46",
   "metadata": {},
   "source": [
    "#### Question 5: What product sold the most and why?"
   ]
  },
  {
   "cell_type": "code",
   "execution_count": 55,
   "id": "49a1e952-74a2-4bf3-a0f2-07f7feb495cb",
   "metadata": {},
   "outputs": [
    {
     "data": {
      "text/plain": [
       "Product\n",
       "20in Monitor                   4129\n",
       "27in 4K Gaming Monitor         6244\n",
       "27in FHD Monitor               7550\n",
       "34in Ultrawide Monitor         6199\n",
       "AA Batteries (4-pack)         27635\n",
       "AAA Batteries (4-pack)        31017\n",
       "Apple Airpods Headphones      15661\n",
       "Bose SoundSport Headphones    13457\n",
       "Flatscreen TV                  4819\n",
       "Google Phone                   5532\n",
       "LG Dryer                        646\n",
       "LG Washing Machine              666\n",
       "Lightning Charging Cable      23217\n",
       "Macbook Pro Laptop             4728\n",
       "ThinkPad Laptop                4130\n",
       "USB-C Charging Cable          23975\n",
       "Vareebadd Phone                2068\n",
       "Wired Headphones              20557\n",
       "iPhone                         6849\n",
       "Name: Quantity Ordered, dtype: int64"
      ]
     },
     "execution_count": 55,
     "metadata": {},
     "output_type": "execute_result"
    }
   ],
   "source": [
    "x= df.groupby(\"Product\")[\"Quantity Ordered\"].sum()\n",
    "x"
   ]
  },
  {
   "cell_type": "code",
   "execution_count": 57,
   "id": "ea4d2da9-125f-46a4-baf7-126fc2eb9264",
   "metadata": {},
   "outputs": [],
   "source": [
    "y = df.groupby(\"Product\")[\"Price Each\"].mean()"
   ]
  },
  {
   "cell_type": "code",
   "execution_count": 59,
   "id": "91e3c71a-e005-45cd-85ae-6609d1ad5824",
   "metadata": {},
   "outputs": [
    {
     "name": "stderr",
     "output_type": "stream",
     "text": [
      "/var/folders/d5/m856t4gd4vq7r_gyzw2htq4m0000gn/T/ipykernel_3613/1876587075.py:11: UserWarning: set_ticklabels() should only be used with a fixed number of ticks, i.e. after set_ticks() or using a FixedLocator.\n",
      "  ax.set_xticklabels(x.index,rotation=\"vertical\",size=8)\n"
     ]
    },
    {
     "data": {
      "text/plain": [
       "<Figure size 1300x500 with 0 Axes>"
      ]
     },
     "metadata": {},
     "output_type": "display_data"
    },
    {
     "data": {
      "image/png": "[encoded data removed]",
      "text/plain": [
       "<Figure size 640x480 with 2 Axes>"
      ]
     },
     "metadata": {},
     "output_type": "display_data"
    }
   ],
   "source": [
    "plt.figure(figsize=(13,5))\n",
    "fig,ax = plt.subplots()\n",
    "ax1=ax.twinx()\n",
    "ax.bar(x.index,x.values)\n",
    "ax1.plot(x.index,y.values,color =\"Red\")\n",
    "\n",
    "\n",
    "ax.set_xlabel(\"Product_Name\")\n",
    "ax.set_ylabel(\"Quantity Order\")\n",
    "ax1.set_ylabel(\"price\")\n",
    "ax.set_xticklabels(x.index,rotation=\"vertical\",size=8)\n",
    "plt.show()"
   ]
  },
  {
   "cell_type": "code",
   "execution_count": null,
   "id": "8f39aa22-da8d-4fa5-a79f-d1fa977a1b12",
   "metadata": {},
   "outputs": [],
   "source": []
  },
  {
   "cell_type": "code",
   "execution_count": null,
   "id": "e6ef1c86-a7d5-4852-8f2a-2360440e3af0",
   "metadata": {},
   "outputs": [],
   "source": []
  },
  {
   "cell_type": "code",
   "execution_count": null,
   "id": "4eb80f7e-3a8b-424b-ab44-8dbb8fabb7d5",
   "metadata": {},
   "outputs": [],
   "source": []
  },
  {
   "cell_type": "code",
   "execution_count": null,
   "id": "26a75fde-a733-4f28-bb1a-822ea359bfb4",
   "metadata": {},
   "outputs": [],
   "source": []
  }
 ],
 "metadata": {
  "kernelspec": {
   "display_name": "Python 3 (ipykernel)",
   "language": "python",
   "name": "python3"
  },
  "language_info": {
   "codemirror_mode": {
    "name": "ipython",
    "version": 3
   },
   "file_extension": ".py",
   "mimetype": "text/x-python",
   "name": "python",
   "nbconvert_exporter": "python",
   "pygments_lexer": "ipython3",
   "version": "3.12.7"
  }
 },
 "nbformat": 4,
 "nbformat_minor": 5
}
